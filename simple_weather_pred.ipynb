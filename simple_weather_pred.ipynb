{
 "cells": [
  {
   "cell_type": "code",
   "execution_count": 1,
   "id": "014d11c1-2c38-408d-9aa1-9f96dfa69a1e",
   "metadata": {},
   "outputs": [],
   "source": [
    "import pandas as pd\n",
    "import numpy as np\n",
    "import matplotlib.pyplot as plt"
   ]
  },
  {
   "cell_type": "code",
   "execution_count": 5,
   "id": "3ee447f1-4f74-456b-b0e1-4fbb6276585a",
   "metadata": {},
   "outputs": [],
   "source": [
    "data = pd.read_csv('synthetic_weather_data_30.csv')"
   ]
  },
  {
   "cell_type": "code",
   "execution_count": 6,
   "id": "284929ac-3a29-4b5d-b7f3-5c88988b759a",
   "metadata": {},
   "outputs": [
    {
     "name": "stdout",
     "output_type": "stream",
     "text": [
      "         Date Location  Temperature   Humidity  WindSpeed     Pressure\n",
      "0  01-01-2022    CityC    17.789877  68.756641   9.349472  1004.030532\n",
      "1  02-01-2022    CityA    20.842893  76.974947   4.963470  1023.242441\n",
      "2  03-01-2022    CityC    22.327237  74.741368   0.953375  1020.203009\n",
      "3  04-01-2022    CityC    24.121400  59.894999   4.664735  1015.835094\n",
      "4  05-01-2022    CityA    30.703519  76.093712   4.877750  1021.786515\n"
     ]
    }
   ],
   "source": [
    "print(data.head())"
   ]
  },
  {
   "cell_type": "code",
   "execution_count": 7,
   "id": "ae88d950-cc79-4e93-877b-7b1e1e9ed263",
   "metadata": {},
   "outputs": [],
   "source": [
    "data = data.drop(columns=['Date', 'Location'])\n"
   ]
  },
  {
   "cell_type": "code",
   "execution_count": 8,
   "id": "d99e7202-fbdc-492c-9743-53c99154ec21",
   "metadata": {},
   "outputs": [
    {
     "data": {
      "text/html": [
       "<div>\n",
       "<style scoped>\n",
       "    .dataframe tbody tr th:only-of-type {\n",
       "        vertical-align: middle;\n",
       "    }\n",
       "\n",
       "    .dataframe tbody tr th {\n",
       "        vertical-align: top;\n",
       "    }\n",
       "\n",
       "    .dataframe thead th {\n",
       "        text-align: right;\n",
       "    }\n",
       "</style>\n",
       "<table border=\"1\" class=\"dataframe\">\n",
       "  <thead>\n",
       "    <tr style=\"text-align: right;\">\n",
       "      <th></th>\n",
       "      <th>Temperature</th>\n",
       "      <th>Humidity</th>\n",
       "      <th>WindSpeed</th>\n",
       "      <th>Pressure</th>\n",
       "    </tr>\n",
       "  </thead>\n",
       "  <tbody>\n",
       "    <tr>\n",
       "      <th>0</th>\n",
       "      <td>17.789877</td>\n",
       "      <td>68.756641</td>\n",
       "      <td>9.349472</td>\n",
       "      <td>1004.030532</td>\n",
       "    </tr>\n",
       "    <tr>\n",
       "      <th>1</th>\n",
       "      <td>20.842893</td>\n",
       "      <td>76.974947</td>\n",
       "      <td>4.963470</td>\n",
       "      <td>1023.242441</td>\n",
       "    </tr>\n",
       "    <tr>\n",
       "      <th>2</th>\n",
       "      <td>22.327237</td>\n",
       "      <td>74.741368</td>\n",
       "      <td>0.953375</td>\n",
       "      <td>1020.203009</td>\n",
       "    </tr>\n",
       "    <tr>\n",
       "      <th>3</th>\n",
       "      <td>24.121400</td>\n",
       "      <td>59.894999</td>\n",
       "      <td>4.664735</td>\n",
       "      <td>1015.835094</td>\n",
       "    </tr>\n",
       "    <tr>\n",
       "      <th>4</th>\n",
       "      <td>30.703519</td>\n",
       "      <td>76.093712</td>\n",
       "      <td>4.877750</td>\n",
       "      <td>1021.786515</td>\n",
       "    </tr>\n",
       "    <tr>\n",
       "      <th>5</th>\n",
       "      <td>18.993476</td>\n",
       "      <td>34.424625</td>\n",
       "      <td>10.944093</td>\n",
       "      <td>1020.091802</td>\n",
       "    </tr>\n",
       "    <tr>\n",
       "      <th>6</th>\n",
       "      <td>25.284689</td>\n",
       "      <td>39.799143</td>\n",
       "      <td>9.563362</td>\n",
       "      <td>1004.664251</td>\n",
       "    </tr>\n",
       "    <tr>\n",
       "      <th>7</th>\n",
       "      <td>26.848291</td>\n",
       "      <td>32.261364</td>\n",
       "      <td>13.308191</td>\n",
       "      <td>1022.313975</td>\n",
       "    </tr>\n",
       "    <tr>\n",
       "      <th>8</th>\n",
       "      <td>15.929008</td>\n",
       "      <td>46.266517</td>\n",
       "      <td>7.083224</td>\n",
       "      <td>1013.483556</td>\n",
       "    </tr>\n",
       "    <tr>\n",
       "      <th>9</th>\n",
       "      <td>27.150897</td>\n",
       "      <td>49.433864</td>\n",
       "      <td>1.793914</td>\n",
       "      <td>1020.186004</td>\n",
       "    </tr>\n",
       "    <tr>\n",
       "      <th>10</th>\n",
       "      <td>18.410482</td>\n",
       "      <td>43.567452</td>\n",
       "      <td>10.698672</td>\n",
       "      <td>1022.402282</td>\n",
       "    </tr>\n",
       "    <tr>\n",
       "      <th>11</th>\n",
       "      <td>16.301032</td>\n",
       "      <td>71.436875</td>\n",
       "      <td>11.411776</td>\n",
       "      <td>1007.950087</td>\n",
       "    </tr>\n",
       "    <tr>\n",
       "      <th>12</th>\n",
       "      <td>33.977711</td>\n",
       "      <td>47.837666</td>\n",
       "      <td>8.419158</td>\n",
       "      <td>1002.751298</td>\n",
       "    </tr>\n",
       "    <tr>\n",
       "      <th>13</th>\n",
       "      <td>34.312641</td>\n",
       "      <td>44.046725</td>\n",
       "      <td>11.564508</td>\n",
       "      <td>1005.698379</td>\n",
       "    </tr>\n",
       "    <tr>\n",
       "      <th>14</th>\n",
       "      <td>31.167947</td>\n",
       "      <td>57.134804</td>\n",
       "      <td>7.406934</td>\n",
       "      <td>1010.677695</td>\n",
       "    </tr>\n",
       "    <tr>\n",
       "      <th>15</th>\n",
       "      <td>21.092275</td>\n",
       "      <td>37.046211</td>\n",
       "      <td>7.840992</td>\n",
       "      <td>1020.450369</td>\n",
       "    </tr>\n",
       "    <tr>\n",
       "      <th>16</th>\n",
       "      <td>16.953442</td>\n",
       "      <td>70.109849</td>\n",
       "      <td>6.413115</td>\n",
       "      <td>1021.518265</td>\n",
       "    </tr>\n",
       "    <tr>\n",
       "      <th>17</th>\n",
       "      <td>28.684661</td>\n",
       "      <td>33.727532</td>\n",
       "      <td>0.381287</td>\n",
       "      <td>1000.173803</td>\n",
       "    </tr>\n",
       "    <tr>\n",
       "      <th>18</th>\n",
       "      <td>23.803050</td>\n",
       "      <td>79.344347</td>\n",
       "      <td>1.618371</td>\n",
       "      <td>1012.768683</td>\n",
       "    </tr>\n",
       "    <tr>\n",
       "      <th>19</th>\n",
       "      <td>17.440765</td>\n",
       "      <td>68.612238</td>\n",
       "      <td>0.471438</td>\n",
       "      <td>1010.435275</td>\n",
       "    </tr>\n",
       "    <tr>\n",
       "      <th>20</th>\n",
       "      <td>24.903538</td>\n",
       "      <td>39.935784</td>\n",
       "      <td>9.546156</td>\n",
       "      <td>1005.552695</td>\n",
       "    </tr>\n",
       "    <tr>\n",
       "      <th>21</th>\n",
       "      <td>15.687770</td>\n",
       "      <td>30.276106</td>\n",
       "      <td>4.715340</td>\n",
       "      <td>1002.996634</td>\n",
       "    </tr>\n",
       "    <tr>\n",
       "      <th>22</th>\n",
       "      <td>33.186408</td>\n",
       "      <td>70.773071</td>\n",
       "      <td>7.628560</td>\n",
       "      <td>1008.440379</td>\n",
       "    </tr>\n",
       "    <tr>\n",
       "      <th>23</th>\n",
       "      <td>20.175600</td>\n",
       "      <td>65.342867</td>\n",
       "      <td>13.613497</td>\n",
       "      <td>1023.572743</td>\n",
       "    </tr>\n",
       "    <tr>\n",
       "      <th>24</th>\n",
       "      <td>28.250446</td>\n",
       "      <td>66.450358</td>\n",
       "      <td>3.739383</td>\n",
       "      <td>1008.080073</td>\n",
       "    </tr>\n",
       "    <tr>\n",
       "      <th>25</th>\n",
       "      <td>21.234222</td>\n",
       "      <td>68.563517</td>\n",
       "      <td>6.155744</td>\n",
       "      <td>1012.969766</td>\n",
       "    </tr>\n",
       "    <tr>\n",
       "      <th>26</th>\n",
       "      <td>25.401360</td>\n",
       "      <td>33.702233</td>\n",
       "      <td>11.333267</td>\n",
       "      <td>1017.575474</td>\n",
       "    </tr>\n",
       "    <tr>\n",
       "      <th>27</th>\n",
       "      <td>25.934206</td>\n",
       "      <td>47.923286</td>\n",
       "      <td>3.431972</td>\n",
       "      <td>1009.090740</td>\n",
       "    </tr>\n",
       "    <tr>\n",
       "      <th>28</th>\n",
       "      <td>18.697089</td>\n",
       "      <td>47.923286</td>\n",
       "      <td>1.154699</td>\n",
       "      <td>1024.294552</td>\n",
       "    </tr>\n",
       "    <tr>\n",
       "      <th>29</th>\n",
       "      <td>34.391693</td>\n",
       "      <td>47.923286</td>\n",
       "      <td>4.346272</td>\n",
       "      <td>1024.061182</td>\n",
       "    </tr>\n",
       "    <tr>\n",
       "      <th>30</th>\n",
       "      <td>34.391693</td>\n",
       "      <td>47.923286</td>\n",
       "      <td>4.346272</td>\n",
       "      <td>1024.061182</td>\n",
       "    </tr>\n",
       "    <tr>\n",
       "      <th>31</th>\n",
       "      <td>34.391693</td>\n",
       "      <td>47.923286</td>\n",
       "      <td>4.346272</td>\n",
       "      <td>1024.061182</td>\n",
       "    </tr>\n",
       "    <tr>\n",
       "      <th>32</th>\n",
       "      <td>34.391693</td>\n",
       "      <td>47.923286</td>\n",
       "      <td>4.346272</td>\n",
       "      <td>1024.061182</td>\n",
       "    </tr>\n",
       "    <tr>\n",
       "      <th>33</th>\n",
       "      <td>34.391693</td>\n",
       "      <td>47.923286</td>\n",
       "      <td>4.346272</td>\n",
       "      <td>1024.061182</td>\n",
       "    </tr>\n",
       "    <tr>\n",
       "      <th>34</th>\n",
       "      <td>34.391693</td>\n",
       "      <td>47.923286</td>\n",
       "      <td>4.346272</td>\n",
       "      <td>1024.061182</td>\n",
       "    </tr>\n",
       "    <tr>\n",
       "      <th>35</th>\n",
       "      <td>34.391693</td>\n",
       "      <td>47.923286</td>\n",
       "      <td>4.346272</td>\n",
       "      <td>1024.061182</td>\n",
       "    </tr>\n",
       "  </tbody>\n",
       "</table>\n",
       "</div>"
      ],
      "text/plain": [
       "    Temperature   Humidity  WindSpeed     Pressure\n",
       "0     17.789877  68.756641   9.349472  1004.030532\n",
       "1     20.842893  76.974947   4.963470  1023.242441\n",
       "2     22.327237  74.741368   0.953375  1020.203009\n",
       "3     24.121400  59.894999   4.664735  1015.835094\n",
       "4     30.703519  76.093712   4.877750  1021.786515\n",
       "5     18.993476  34.424625  10.944093  1020.091802\n",
       "6     25.284689  39.799143   9.563362  1004.664251\n",
       "7     26.848291  32.261364  13.308191  1022.313975\n",
       "8     15.929008  46.266517   7.083224  1013.483556\n",
       "9     27.150897  49.433864   1.793914  1020.186004\n",
       "10    18.410482  43.567452  10.698672  1022.402282\n",
       "11    16.301032  71.436875  11.411776  1007.950087\n",
       "12    33.977711  47.837666   8.419158  1002.751298\n",
       "13    34.312641  44.046725  11.564508  1005.698379\n",
       "14    31.167947  57.134804   7.406934  1010.677695\n",
       "15    21.092275  37.046211   7.840992  1020.450369\n",
       "16    16.953442  70.109849   6.413115  1021.518265\n",
       "17    28.684661  33.727532   0.381287  1000.173803\n",
       "18    23.803050  79.344347   1.618371  1012.768683\n",
       "19    17.440765  68.612238   0.471438  1010.435275\n",
       "20    24.903538  39.935784   9.546156  1005.552695\n",
       "21    15.687770  30.276106   4.715340  1002.996634\n",
       "22    33.186408  70.773071   7.628560  1008.440379\n",
       "23    20.175600  65.342867  13.613497  1023.572743\n",
       "24    28.250446  66.450358   3.739383  1008.080073\n",
       "25    21.234222  68.563517   6.155744  1012.969766\n",
       "26    25.401360  33.702233  11.333267  1017.575474\n",
       "27    25.934206  47.923286   3.431972  1009.090740\n",
       "28    18.697089  47.923286   1.154699  1024.294552\n",
       "29    34.391693  47.923286   4.346272  1024.061182\n",
       "30    34.391693  47.923286   4.346272  1024.061182\n",
       "31    34.391693  47.923286   4.346272  1024.061182\n",
       "32    34.391693  47.923286   4.346272  1024.061182\n",
       "33    34.391693  47.923286   4.346272  1024.061182\n",
       "34    34.391693  47.923286   4.346272  1024.061182\n",
       "35    34.391693  47.923286   4.346272  1024.061182"
      ]
     },
     "execution_count": 8,
     "metadata": {},
     "output_type": "execute_result"
    }
   ],
   "source": [
    "data"
   ]
  },
  {
   "cell_type": "code",
   "execution_count": 9,
   "id": "dd4a6f3e-f2de-4a7a-949b-96fd986277cd",
   "metadata": {},
   "outputs": [],
   "source": [
    "data = data.dropna()"
   ]
  },
  {
   "cell_type": "code",
   "execution_count": 11,
   "id": "3d41f9d0-53ff-4007-b7f8-c9d650a59601",
   "metadata": {},
   "outputs": [],
   "source": [
    "X = data.drop(columns=['Temperature'])\n",
    "y = data['Temperature']"
   ]
  },
  {
   "cell_type": "code",
   "execution_count": 14,
   "id": "134d0004-ce6b-426c-85b7-465e8401266f",
   "metadata": {},
   "outputs": [
    {
     "name": "stdout",
     "output_type": "stream",
     "text": [
      "     Humidity  WindSpeed     Pressure\n",
      "0   68.756641   9.349472  1004.030532\n",
      "1   76.974947   4.963470  1023.242441\n",
      "2   74.741368   0.953375  1020.203009\n",
      "3   59.894999   4.664735  1015.835094\n",
      "4   76.093712   4.877750  1021.786515\n",
      "5   34.424625  10.944093  1020.091802\n",
      "6   39.799143   9.563362  1004.664251\n",
      "7   32.261364  13.308191  1022.313975\n",
      "8   46.266517   7.083224  1013.483556\n",
      "9   49.433864   1.793914  1020.186004\n",
      "10  43.567452  10.698672  1022.402282\n",
      "11  71.436875  11.411776  1007.950087\n",
      "12  47.837666   8.419158  1002.751298\n",
      "13  44.046725  11.564508  1005.698379\n",
      "14  57.134804   7.406934  1010.677695\n",
      "15  37.046211   7.840992  1020.450369\n",
      "16  70.109849   6.413115  1021.518265\n",
      "17  33.727532   0.381287  1000.173803\n",
      "18  79.344347   1.618371  1012.768683\n",
      "19  68.612238   0.471438  1010.435275\n",
      "20  39.935784   9.546156  1005.552695\n",
      "21  30.276106   4.715340  1002.996634\n",
      "22  70.773071   7.628560  1008.440379\n",
      "23  65.342867  13.613497  1023.572743\n",
      "24  66.450358   3.739383  1008.080073\n",
      "25  68.563517   6.155744  1012.969766\n",
      "26  33.702233  11.333267  1017.575474\n",
      "27  47.923286   3.431972  1009.090740\n",
      "28  47.923286   1.154699  1024.294552\n",
      "29  47.923286   4.346272  1024.061182\n",
      "30  47.923286   4.346272  1024.061182\n",
      "31  47.923286   4.346272  1024.061182\n",
      "32  47.923286   4.346272  1024.061182\n",
      "33  47.923286   4.346272  1024.061182\n",
      "34  47.923286   4.346272  1024.061182\n",
      "35  47.923286   4.346272  1024.061182\n"
     ]
    }
   ],
   "source": [
    "print(X)"
   ]
  },
  {
   "cell_type": "code",
   "execution_count": 16,
   "id": "b299590a-4b4c-4cfa-9aa8-e68e2dc01db9",
   "metadata": {},
   "outputs": [],
   "source": [
    "from sklearn.model_selection import train_test_split\n",
    "from sklearn.preprocessing import StandardScaler\n",
    "from sklearn.linear_model import LinearRegression\n",
    "from sklearn.ensemble import RandomForestRegressor\n",
    "from sklearn.metrics import mean_squared_error, r2_score\n"
   ]
  },
  {
   "cell_type": "code",
   "execution_count": 17,
   "id": "3f37c44a-9bee-40a5-82ab-cec99c0a219f",
   "metadata": {},
   "outputs": [],
   "source": [
    "X_train, X_test, y_train, y_test = train_test_split(X, y, test_size=0.2, random_state=42)\n"
   ]
  },
  {
   "cell_type": "code",
   "execution_count": 18,
   "id": "5fc792a5-becc-4823-a8b7-4d34326cdfc2",
   "metadata": {},
   "outputs": [
    {
     "data": {
      "text/html": [
       "<div>\n",
       "<style scoped>\n",
       "    .dataframe tbody tr th:only-of-type {\n",
       "        vertical-align: middle;\n",
       "    }\n",
       "\n",
       "    .dataframe tbody tr th {\n",
       "        vertical-align: top;\n",
       "    }\n",
       "\n",
       "    .dataframe thead th {\n",
       "        text-align: right;\n",
       "    }\n",
       "</style>\n",
       "<table border=\"1\" class=\"dataframe\">\n",
       "  <thead>\n",
       "    <tr style=\"text-align: right;\">\n",
       "      <th></th>\n",
       "      <th>Humidity</th>\n",
       "      <th>WindSpeed</th>\n",
       "      <th>Pressure</th>\n",
       "    </tr>\n",
       "  </thead>\n",
       "  <tbody>\n",
       "    <tr>\n",
       "      <th>8</th>\n",
       "      <td>46.266517</td>\n",
       "      <td>7.083224</td>\n",
       "      <td>1013.483556</td>\n",
       "    </tr>\n",
       "    <tr>\n",
       "      <th>17</th>\n",
       "      <td>33.727532</td>\n",
       "      <td>0.381287</td>\n",
       "      <td>1000.173803</td>\n",
       "    </tr>\n",
       "    <tr>\n",
       "      <th>9</th>\n",
       "      <td>49.433864</td>\n",
       "      <td>1.793914</td>\n",
       "      <td>1020.186004</td>\n",
       "    </tr>\n",
       "    <tr>\n",
       "      <th>34</th>\n",
       "      <td>47.923286</td>\n",
       "      <td>4.346272</td>\n",
       "      <td>1024.061182</td>\n",
       "    </tr>\n",
       "    <tr>\n",
       "      <th>0</th>\n",
       "      <td>68.756641</td>\n",
       "      <td>9.349472</td>\n",
       "      <td>1004.030532</td>\n",
       "    </tr>\n",
       "    <tr>\n",
       "      <th>4</th>\n",
       "      <td>76.093712</td>\n",
       "      <td>4.877750</td>\n",
       "      <td>1021.786515</td>\n",
       "    </tr>\n",
       "    <tr>\n",
       "      <th>29</th>\n",
       "      <td>47.923286</td>\n",
       "      <td>4.346272</td>\n",
       "      <td>1024.061182</td>\n",
       "    </tr>\n",
       "    <tr>\n",
       "      <th>15</th>\n",
       "      <td>37.046211</td>\n",
       "      <td>7.840992</td>\n",
       "      <td>1020.450369</td>\n",
       "    </tr>\n",
       "    <tr>\n",
       "      <th>19</th>\n",
       "      <td>68.612238</td>\n",
       "      <td>0.471438</td>\n",
       "      <td>1010.435275</td>\n",
       "    </tr>\n",
       "    <tr>\n",
       "      <th>5</th>\n",
       "      <td>34.424625</td>\n",
       "      <td>10.944093</td>\n",
       "      <td>1020.091802</td>\n",
       "    </tr>\n",
       "    <tr>\n",
       "      <th>11</th>\n",
       "      <td>71.436875</td>\n",
       "      <td>11.411776</td>\n",
       "      <td>1007.950087</td>\n",
       "    </tr>\n",
       "    <tr>\n",
       "      <th>1</th>\n",
       "      <td>76.974947</td>\n",
       "      <td>4.963470</td>\n",
       "      <td>1023.242441</td>\n",
       "    </tr>\n",
       "    <tr>\n",
       "      <th>24</th>\n",
       "      <td>66.450358</td>\n",
       "      <td>3.739383</td>\n",
       "      <td>1008.080073</td>\n",
       "    </tr>\n",
       "    <tr>\n",
       "      <th>2</th>\n",
       "      <td>74.741368</td>\n",
       "      <td>0.953375</td>\n",
       "      <td>1020.203009</td>\n",
       "    </tr>\n",
       "    <tr>\n",
       "      <th>33</th>\n",
       "      <td>47.923286</td>\n",
       "      <td>4.346272</td>\n",
       "      <td>1024.061182</td>\n",
       "    </tr>\n",
       "    <tr>\n",
       "      <th>3</th>\n",
       "      <td>59.894999</td>\n",
       "      <td>4.664735</td>\n",
       "      <td>1015.835094</td>\n",
       "    </tr>\n",
       "    <tr>\n",
       "      <th>32</th>\n",
       "      <td>47.923286</td>\n",
       "      <td>4.346272</td>\n",
       "      <td>1024.061182</td>\n",
       "    </tr>\n",
       "    <tr>\n",
       "      <th>23</th>\n",
       "      <td>65.342867</td>\n",
       "      <td>13.613497</td>\n",
       "      <td>1023.572743</td>\n",
       "    </tr>\n",
       "    <tr>\n",
       "      <th>27</th>\n",
       "      <td>47.923286</td>\n",
       "      <td>3.431972</td>\n",
       "      <td>1009.090740</td>\n",
       "    </tr>\n",
       "    <tr>\n",
       "      <th>10</th>\n",
       "      <td>43.567452</td>\n",
       "      <td>10.698672</td>\n",
       "      <td>1022.402282</td>\n",
       "    </tr>\n",
       "    <tr>\n",
       "      <th>22</th>\n",
       "      <td>70.773071</td>\n",
       "      <td>7.628560</td>\n",
       "      <td>1008.440379</td>\n",
       "    </tr>\n",
       "    <tr>\n",
       "      <th>18</th>\n",
       "      <td>79.344347</td>\n",
       "      <td>1.618371</td>\n",
       "      <td>1012.768683</td>\n",
       "    </tr>\n",
       "    <tr>\n",
       "      <th>25</th>\n",
       "      <td>68.563517</td>\n",
       "      <td>6.155744</td>\n",
       "      <td>1012.969766</td>\n",
       "    </tr>\n",
       "    <tr>\n",
       "      <th>6</th>\n",
       "      <td>39.799143</td>\n",
       "      <td>9.563362</td>\n",
       "      <td>1004.664251</td>\n",
       "    </tr>\n",
       "    <tr>\n",
       "      <th>20</th>\n",
       "      <td>39.935784</td>\n",
       "      <td>9.546156</td>\n",
       "      <td>1005.552695</td>\n",
       "    </tr>\n",
       "    <tr>\n",
       "      <th>7</th>\n",
       "      <td>32.261364</td>\n",
       "      <td>13.308191</td>\n",
       "      <td>1022.313975</td>\n",
       "    </tr>\n",
       "    <tr>\n",
       "      <th>14</th>\n",
       "      <td>57.134804</td>\n",
       "      <td>7.406934</td>\n",
       "      <td>1010.677695</td>\n",
       "    </tr>\n",
       "    <tr>\n",
       "      <th>28</th>\n",
       "      <td>47.923286</td>\n",
       "      <td>1.154699</td>\n",
       "      <td>1024.294552</td>\n",
       "    </tr>\n",
       "  </tbody>\n",
       "</table>\n",
       "</div>"
      ],
      "text/plain": [
       "     Humidity  WindSpeed     Pressure\n",
       "8   46.266517   7.083224  1013.483556\n",
       "17  33.727532   0.381287  1000.173803\n",
       "9   49.433864   1.793914  1020.186004\n",
       "34  47.923286   4.346272  1024.061182\n",
       "0   68.756641   9.349472  1004.030532\n",
       "4   76.093712   4.877750  1021.786515\n",
       "29  47.923286   4.346272  1024.061182\n",
       "15  37.046211   7.840992  1020.450369\n",
       "19  68.612238   0.471438  1010.435275\n",
       "5   34.424625  10.944093  1020.091802\n",
       "11  71.436875  11.411776  1007.950087\n",
       "1   76.974947   4.963470  1023.242441\n",
       "24  66.450358   3.739383  1008.080073\n",
       "2   74.741368   0.953375  1020.203009\n",
       "33  47.923286   4.346272  1024.061182\n",
       "3   59.894999   4.664735  1015.835094\n",
       "32  47.923286   4.346272  1024.061182\n",
       "23  65.342867  13.613497  1023.572743\n",
       "27  47.923286   3.431972  1009.090740\n",
       "10  43.567452  10.698672  1022.402282\n",
       "22  70.773071   7.628560  1008.440379\n",
       "18  79.344347   1.618371  1012.768683\n",
       "25  68.563517   6.155744  1012.969766\n",
       "6   39.799143   9.563362  1004.664251\n",
       "20  39.935784   9.546156  1005.552695\n",
       "7   32.261364  13.308191  1022.313975\n",
       "14  57.134804   7.406934  1010.677695\n",
       "28  47.923286   1.154699  1024.294552"
      ]
     },
     "execution_count": 18,
     "metadata": {},
     "output_type": "execute_result"
    }
   ],
   "source": [
    "X_train"
   ]
  },
  {
   "cell_type": "code",
   "execution_count": 19,
   "id": "d45f6ef7-551f-4756-a0d5-651288e04089",
   "metadata": {},
   "outputs": [
    {
     "data": {
      "text/plain": [
       "8     15.929008\n",
       "17    28.684661\n",
       "9     27.150897\n",
       "34    34.391693\n",
       "0     17.789877\n",
       "4     30.703519\n",
       "29    34.391693\n",
       "15    21.092275\n",
       "19    17.440765\n",
       "5     18.993476\n",
       "11    16.301032\n",
       "1     20.842893\n",
       "24    28.250446\n",
       "2     22.327237\n",
       "33    34.391693\n",
       "3     24.121400\n",
       "32    34.391693\n",
       "23    20.175600\n",
       "27    25.934206\n",
       "10    18.410482\n",
       "22    33.186408\n",
       "18    23.803050\n",
       "25    21.234222\n",
       "6     25.284689\n",
       "20    24.903538\n",
       "7     26.848291\n",
       "14    31.167947\n",
       "28    18.697089\n",
       "Name: Temperature, dtype: float64"
      ]
     },
     "execution_count": 19,
     "metadata": {},
     "output_type": "execute_result"
    }
   ],
   "source": [
    " y_train"
   ]
  },
  {
   "cell_type": "code",
   "execution_count": 20,
   "id": "8b22750c-7e83-460b-af5e-8e9f4939cb93",
   "metadata": {},
   "outputs": [],
   "source": [
    "scaler = StandardScaler()\n",
    "X_train_scaled = scaler.fit_transform(X_train)\n",
    "X_test_scaled = scaler.transform(X_test)"
   ]
  },
  {
   "cell_type": "code",
   "execution_count": 21,
   "id": "ebdb0908-b679-42a2-91c4-5f490162fd77",
   "metadata": {},
   "outputs": [
    {
     "data": {
      "text/plain": [
       "array([[-0.61830388,  0.2653556 , -0.29278375],\n",
       "       [-1.477489  , -1.49145016, -2.06981941],\n",
       "       [-0.40127369, -1.12115261,  0.60208554],\n",
       "       [-0.50478017, -0.45209269,  1.11947527],\n",
       "       [ 0.9227444 ,  0.85941633, -1.55489288],\n",
       "       [ 1.42548861, -0.31277421,  0.81577584],\n",
       "       [-0.50478017, -0.45209269,  1.11947527],\n",
       "       [-1.25008943,  0.46399253,  0.63738191],\n",
       "       [ 0.91284976, -1.46781855, -0.69977132],\n",
       "       [-1.42972342,  1.27742071,  0.58950827],\n",
       "       [ 1.10639702,  1.40001635, -1.03157821],\n",
       "       [ 1.48587183, -0.29030393,  1.01016205],\n",
       "       [ 0.76471535, -0.61117878, -1.01422328],\n",
       "       [ 1.33282448, -1.34148634,  0.60435594],\n",
       "       [-0.50478017, -0.45209269,  1.11947527],\n",
       "       [ 0.31553485, -0.36861269,  0.02117902],\n",
       "       [-0.50478017, -0.45209269,  1.11947527],\n",
       "       [ 0.68882882,  1.97716246,  1.05426192],\n",
       "       [-0.50478017, -0.69176165, -0.87928529],\n",
       "       [-0.80324681,  1.21308755,  0.89798923],\n",
       "       [ 1.06091244,  0.40830685, -0.96611746],\n",
       "       [ 1.64822573, -1.16716822, -0.38822916],\n",
       "       [ 0.90951134,  0.02223152, -0.3613818 ],\n",
       "       [-1.06145548,  0.91548423, -1.47028265],\n",
       "       [-1.05209269,  0.91097397, -1.35166312],\n",
       "       [-1.57795244,  1.89713137,  0.88619903],\n",
       "       [ 0.12640324,  0.35021103, -0.6674049 ],\n",
       "       [-0.50478017, -1.28871263,  1.15063338]])"
      ]
     },
     "execution_count": 21,
     "metadata": {},
     "output_type": "execute_result"
    }
   ],
   "source": [
    "X_train_scaled"
   ]
  },
  {
   "cell_type": "code",
   "execution_count": 22,
   "id": "b27255b1-5bec-4d54-a61e-7475583dd1b0",
   "metadata": {},
   "outputs": [
    {
     "data": {
      "text/plain": [
       "array([[-0.50478017, -0.45209269,  1.11947527],\n",
       "       [-0.77040643,  1.4400526 , -1.33221229],\n",
       "       [-1.47922255,  1.37943656,  0.25354376],\n",
       "       [-0.50478017, -0.45209269,  1.11947527],\n",
       "       [ 1.0154677 ,  0.08969733,  0.77996076],\n",
       "       [-0.50478017, -0.45209269,  1.11947527],\n",
       "       [-1.71398456, -0.35534742, -1.69293253],\n",
       "       [-0.51064696,  0.61554939, -1.72568827]])"
      ]
     },
     "execution_count": 22,
     "metadata": {},
     "output_type": "execute_result"
    }
   ],
   "source": [
    "X_test_scaled "
   ]
  },
  {
   "cell_type": "markdown",
   "id": "1e6473f5-fecc-4f2c-a7c0-9ddac4fce1f8",
   "metadata": {},
   "source": [
    "Linear regression model"
   ]
  },
  {
   "cell_type": "code",
   "execution_count": 23,
   "id": "4ae220c4-a48d-4360-b8cf-1e00b87ebd6f",
   "metadata": {},
   "outputs": [],
   "source": [
    "lin_reg = LinearRegression()\n",
    "lin_reg.fit(X_train_scaled, y_train)\n",
    "y_pred_lin = lin_reg.predict(X_test_scaled)"
   ]
  },
  {
   "cell_type": "code",
   "execution_count": 24,
   "id": "df21e902-3b61-42d6-89bb-1f6f8b5d2639",
   "metadata": {},
   "outputs": [
    {
     "data": {
      "text/plain": [
       "array([27.19902028, 22.12841542, 24.37020206, 27.19902028, 24.19788515,\n",
       "       27.19902028, 26.09958534, 22.96042917])"
      ]
     },
     "execution_count": 24,
     "metadata": {},
     "output_type": "execute_result"
    }
   ],
   "source": [
    "y_pred_lin"
   ]
  },
  {
   "cell_type": "markdown",
   "id": "08706fe9-8261-4349-85b1-6932b1598799",
   "metadata": {},
   "source": [
    "Random forest regression model"
   ]
  },
  {
   "cell_type": "code",
   "execution_count": 25,
   "id": "a37aa84f-b652-4d2e-9b17-7e33356b847a",
   "metadata": {},
   "outputs": [],
   "source": [
    "rf_reg = RandomForestRegressor(n_estimators=100, random_state=42)\n",
    "rf_reg.fit(X_train, y_train)\n",
    "y_pred_rf = rf_reg.predict(X_test)"
   ]
  },
  {
   "cell_type": "code",
   "execution_count": 26,
   "id": "1ba9c83d-fba3-4945-b5f9-9330d02a5588",
   "metadata": {},
   "outputs": [
    {
     "data": {
      "text/plain": [
       "array([34.05304888, 21.61738954, 20.79578717, 34.05304888, 25.34824334,\n",
       "       34.05304888, 26.07403685, 23.50145009])"
      ]
     },
     "execution_count": 26,
     "metadata": {},
     "output_type": "execute_result"
    }
   ],
   "source": [
    "y_pred_rf"
   ]
  },
  {
   "cell_type": "code",
   "execution_count": 27,
   "id": "f1ebc122-6c69-4581-bdd0-ba0dc43a46d6",
   "metadata": {},
   "outputs": [],
   "source": [
    "mse_lin = mean_squared_error(y_test, y_pred_lin)\n",
    "r2_lin = r2_score(y_test, y_pred_lin)\n",
    "mse_rf = mean_squared_error(y_test, y_pred_rf)\n",
    "r2_rf = r2_score(y_test, y_pred_rf)\n"
   ]
  },
  {
   "cell_type": "code",
   "execution_count": 44,
   "id": "7d4ba7ff-dd8e-4f15-b0ef-f982b2f22c3f",
   "metadata": {},
   "outputs": [
    {
     "name": "stdout",
     "output_type": "stream",
     "text": [
      "Linear Regression - Mean Squared Error: 73.37382146775005\n",
      "Linear Regression - R^2 Score: -0.23649392232060662\n"
     ]
    }
   ],
   "source": [
    "print(\"Linear Regression - Mean Squared Error:\", mse_lin)\n",
    "print(\"Linear Regression - R^2 Score:\", r2_lin)"
   ]
  },
  {
   "cell_type": "code",
   "execution_count": 43,
   "id": "269db32c-6000-46c2-85bc-ca00465ac7c9",
   "metadata": {},
   "outputs": [
    {
     "name": "stdout",
     "output_type": "stream",
     "text": [
      "Random Forest Regression - Mean Squared Error: 58.85299963104458\n",
      "Random Forest Regression - R^2 Score: 0.00821062746324741\n"
     ]
    }
   ],
   "source": [
    "print(\"Random Forest Regression - Mean Squared Error:\", mse_rf)\n",
    "print(\"Random Forest Regression - R^2 Score:\", r2_rf)\n"
   ]
  },
  {
   "cell_type": "markdown",
   "id": "c817c21a-f25e-47c2-bbc1-e5c5d810ab57",
   "metadata": {},
   "source": [
    "plotting the graph"
   ]
  },
  {
   "cell_type": "code",
   "execution_count": 29,
   "id": "cc1c2cea-ec01-44e2-92e9-af6e6e021daa",
   "metadata": {},
   "outputs": [
    {
     "data": {
      "text/plain": [
       "<Figure size 1400x600 with 0 Axes>"
      ]
     },
     "execution_count": 29,
     "metadata": {},
     "output_type": "execute_result"
    },
    {
     "data": {
      "text/plain": [
       "<Figure size 1400x600 with 0 Axes>"
      ]
     },
     "metadata": {},
     "output_type": "display_data"
    }
   ],
   "source": [
    "plt.figure(figsize=(14, 6))"
   ]
  },
  {
   "cell_type": "code",
   "execution_count": 30,
   "id": "169e1c69-e828-4aa4-9e77-f6182de1c384",
   "metadata": {},
   "outputs": [
    {
     "data": {
      "text/plain": [
       "Text(0, 0.5, 'Predicted Temperature')"
      ]
     },
     "execution_count": 30,
     "metadata": {},
     "output_type": "execute_result"
    },
    {
     "data": {
      "image/png": "[encoded data removed]",
      "text/plain": [
       "<Figure size 640x480 with 1 Axes>"
      ]
     },
     "metadata": {},
     "output_type": "display_data"
    }
   ],
   "source": [
    "plt.subplot(1, 2, 1)\n",
    "plt.scatter(y_test, y_pred_lin, color='blue')\n",
    "plt.plot([y_test.min(), y_test.max()], [y_test.min(), y_test.max()], color='red', linewidth=2)\n",
    "plt.title('Linear Regression')\n",
    "plt.xlabel('Actual Temperature')\n",
    "plt.ylabel('Predicted Temperature')"
   ]
  },
  {
   "cell_type": "code",
   "execution_count": 39,
   "id": "75659b1b-6647-4b7c-901c-add0d1f3d849",
   "metadata": {},
   "outputs": [
    {
     "data": {
      "image/png": "[encoded data removed]",
      "text/plain": [
       "<Figure size 640x480 with 1 Axes>"
      ]
     },
     "metadata": {},
     "output_type": "display_data"
    }
   ],
   "source": [
    "plt.subplot(1, 2, 2)\n",
    "plt.scatter(y_test, y_pred_rf, color='green')\n",
    "plt.plot([y_test.min(), y_test.max()], [y_test.min(), y_test.max()], color='red', linewidth=2)\n",
    "plt.title('Random Forest Regression')\n",
    "plt.xlabel('Actual Temperature')\n",
    "plt.ylabel('Predicted Temperature')\n",
    "plt.tight_layout()\n",
    "plt.show()"
   ]
  },
  {
   "cell_type": "markdown",
   "id": "3cdad863-a0d1-4457-b2a1-5a04c8bdfdf9",
   "metadata": {},
   "source": [
    "sample input data in dataframe format"
   ]
  },
  {
   "cell_type": "code",
   "execution_count": 40,
   "id": "af278aef-c171-4ee6-9e3d-4db7057f2600",
   "metadata": {},
   "outputs": [],
   "source": [
    "\n",
    "sample_input_data = pd.DataFrame({\n",
    "    'Humidity': [68.76, 76.97, 74.74, 59.89, 76.09, 34.42, 39.80, 32.26, 46.27, 49.43],\n",
    "    'WindSpeed': [9.35, 4.96, 0.95, 4.66, 4.88, 10.94, 9.56, 13.31, 7.08, 1.79],\n",
    "    'Pressure': [1004.03, 1023.24, 1020.20, 1015.84, 1021.79, 1020.09, 1004.66, 1022.31, 1013.48, 1020.19]\n",
    "})"
   ]
  },
  {
   "cell_type": "code",
   "execution_count": 35,
   "id": "b1df1e4d-2cdc-459d-b363-cf5523a50a7a",
   "metadata": {},
   "outputs": [
    {
     "name": "stdout",
     "output_type": "stream",
     "text": [
      "Predicted Temperatures (Linear Regression): [21.00912205 24.51762543 26.21838317 25.19444534 24.46425668 24.77366577\n",
      " 23.28044057 24.09139281 24.89232516 27.83697033]\n"
     ]
    }
   ],
   "source": [
    "\n",
    "sample_input_data_scaled = scaler.transform(sample_input_data)\n",
    "\n",
    "predicted_temperatures_lin_reg = lin_reg.predict(sample_input_data_scaled)\n",
    "\n",
    "\n",
    "print(\"Predicted Temperatures (Linear Regression):\", predicted_temperatures_lin_reg)\n",
    "\n"
   ]
  },
  {
   "cell_type": "markdown",
   "id": "2092df7d-4111-4099-ab35-d7fadb19fa11",
   "metadata": {},
   "source": [
    "sample input data "
   ]
  },
  {
   "cell_type": "code",
   "execution_count": 38,
   "id": "816ce35a-b6f6-4d67-867f-38ddf72f9656",
   "metadata": {},
   "outputs": [
    {
     "name": "stdout",
     "output_type": "stream",
     "text": [
      "Predicted Temperatures (Linear Regression): [21.00912205]\n"
     ]
    }
   ],
   "source": [
    "sample_input_data = pd.DataFrame({\n",
    "    'Humidity': [68.76],\n",
    "    'WindSpeed': [9.35],\n",
    "    'Pressure': [1004.03]\n",
    "})\n",
    "sample_input_data_scaled = scaler.transform(sample_input_data)\n",
    "predicted_temperatures_lin_reg = lin_reg.predict(sample_input_data_scaled)\n",
    "print(\"Predicted Temperatures (Linear Regression):\", predicted_temperatures_lin_reg)"
   ]
  }
 ],
 "metadata": {
  "kernelspec": {
   "display_name": "Python 3 (ipykernel)",
   "language": "python",
   "name": "python3"
  },
  "language_info": {
   "codemirror_mode": {
    "name": "ipython",
    "version": 3
   },
   "file_extension": ".py",
   "mimetype": "text/x-python",
   "name": "python",
   "nbconvert_exporter": "python",
   "pygments_lexer": "ipython3",
   "version": "3.12.1"
  }
 },
 "nbformat": 4,
 "nbformat_minor": 5
}
